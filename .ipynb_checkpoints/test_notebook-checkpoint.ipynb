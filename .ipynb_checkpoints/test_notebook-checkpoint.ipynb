{
 "cells": [
  {
   "cell_type": "markdown",
   "metadata": {
    "collapsed": false
   },
   "source": [
    "#使用的公式\n",
    "## 公式一\n",
    "公式\n",
    "$\\int_a^b f(x)=0$"
   ]
  },
  {
   "cell_type": "code",
   "execution_count": 7,
   "metadata": {
    "collapsed": false
   },
   "outputs": [
    {
     "name": "stdout",
     "output_type": "stream",
     "text": [
      "[[ 1.49813524  0.37239316 -0.00578256  0.08208941]\n",
      " [ 0.72593761 -0.5581946   0.09264468 -1.21714369]\n",
      " [ 1.55233655  1.69992015  1.0412069   0.70341767]]\n"
     ]
    }
   ],
   "source": [
    "import numpy\n",
    "a = numpy.random.normal(size=(3,4))\n",
    "print a"
   ]
  },
  {
   "cell_type": "markdown",
   "metadata": {},
   "source": [
    "这段代码的作用"
   ]
  }
 ],
 "metadata": {
  "kernelspec": {
   "display_name": "Python 2",
   "language": "python",
   "name": "python2"
  },
  "language_info": {
   "codemirror_mode": {
    "name": "ipython",
    "version": 2
   },
   "file_extension": ".py",
   "mimetype": "text/x-python",
   "name": "python",
   "nbconvert_exporter": "python",
   "pygments_lexer": "ipython2",
   "version": "2.7.10"
  }
 },
 "nbformat": 4,
 "nbformat_minor": 0
}
